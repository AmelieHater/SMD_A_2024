{
 "cells": [
  {
   "cell_type": "markdown",
   "id": "a98e0271-2c98-47c4-84d4-53be4ace1f9b",
   "metadata": {},
   "source": [
    "# Übungsblatt 02"
   ]
  },
  {
   "cell_type": "markdown",
   "id": "f8cf37e9-463e-4508-9366-588996bdcb00",
   "metadata": {},
   "source": [
    "## Aufgabe 1"
   ]
  },
  {
   "cell_type": "markdown",
   "id": "a543c031-11e9-446c-8356-02617dc1ff1a",
   "metadata": {},
   "source": [
    "a) Für die Wahrscheinlichkeit, dass die Summe der Punkte gleich oder größer 9 beträgt, werden durch die Häufigkeiten\n",
    "\\begin{gather}\n",
    "    \\symup{k}=\\text{Häufigkeit der Paare mit Summe gleich 9}\\\\\n",
    "    \\symup{c}=\\text{Häufigkeit der Paare mit Summe größer als 9}\\\\\n",
    "    \\symup{n}=\\text{Gesamtanzahl der Paare}\\\\\n",
    "\\end{gather}\n",
    "und der allgemeinen Formel zur Berechnung von Wahrscheinlichkeiten\n",
    "\\begin{equation}\n",
    "    \\symup{P}(\\text{Ereignis})=\\frac{\\symup{A}_{\\text{Häufigkeit eines Ereignisses}}}{\\symup{n}}\n",
    "\\end{equation}\n",
    "\n",
    "    \n",
    "berechnet. Die einzelnen Häufigkeiten k und c sowie die entsprechenden Wahrscheinlichkeiten wird das unten stehende Programm verwendet. Es ergeben sich folgende Wahrscheinlichkeiten\n",
    "\\begin{gather}\n",
    "    \\symup{P}(\\text{a)})\\approx 0.11\\\\\n",
    "    \\symup{P}(\\text{b)})\\approx0.167\\\\\n",
    "\\end{gather}\n",
    "Für die Wahrscheinlichkeiten in Teilaufgabe c und d werden die Regeln zur Pfadmultiplikation und Pfadaddition verwendet. Die Wahrscheinlichkeiten ergeben sich zu \n",
    "\\begin{gather}\n",
    "    \\symup{P}(\\text{c)})=\\symup{P}(\\text{\"Zum Würfeln einer 4\"})\\symup{P}(\\text{\"Zum Würfeln einer 5\"}) \\cdot 2= (\\frac{1}{6})^{2} \\cdot 2\\approx0.056\\\\ \n",
    "    \\symup{P}(\\text{d)})=\\symup{P}(\\text{\"Zum Würfeln einer 4\"})\\symup{P}(\\text{\"Zum Würfeln einer 5\"}) \\cdot 2= (\\frac{1}{6})^{2} \\cdot 2\\approx0.0278\\\\\n",
    "\\end{gather}\n",
    "\n",
    "Für die Berechnung der Wahrscheinlichkeiten aus e) bis g) wird die folgende allgemeine Formel aus der Vorlesung verwendet\n",
    "\\begin{equation}\n",
    "    \\symup{P}(\\symup{B} \\symup{A})=\\frac{\\symup{P}(\\symup{B} \\symup{A})}{\\symup{P}(\\symup{A})}\n",
    "\\end{equation}\n",
    "Die Wahrscheinlichkeiten werden ebenso im unten stehenden Programm ausgerechnet, sodass sich folgende Ergebnisse ergeben\n",
    "\\begin{gather}\n",
    "    \\symup{P}(\\text{e)})=\\frac{\\symup{P}(\\text{\"Zum ersten Würfeln einer 4 und die Summe gleich 9\"})}{\\symup{P}(\\text{\"Zum ersten Würfeln einer4\"})}\\approx 0.167\\\\\n",
    "    \\symup{P}(\\text{f)})=\\frac{\\symup{P}(\\text{\"Zum ersten Würfeln einer 4 und die Summe größer 9\"})}{\\symup{P}(\\text{\"Zum ersten Würfeln einer4\"})}\\approx0.167\\\\\n",
    "    \\symup{P}(\\text{g)})=\\symup{P}(\\text{e)})\\approx 0.167\\\\\n",
    "\\end{gather}"
   ]
  },
  {
   "cell_type": "code",
   "execution_count": 1,
   "id": "b76a68f4-f9ea-4d72-859d-59bc93ee9158",
   "metadata": {},
   "outputs": [
    {
     "name": "stdout",
     "output_type": "stream",
     "text": [
      "4 6\n",
      "Wahrscheinlichkeit für a) beträgt 0.1111111111111111 und die Häufigkeit zu diesem Ereignis beträgt 4\n",
      "Wahrscheinlichkeit für b) beträgt 0.16666666666666666 und die Häufigkeit zu diesem Ereignis beträgt 6\n",
      "Wahrscheinlichkeit für c) beträgt 0.05555555555555555\n",
      "Wahrscheinlichkeit für d) beträgt 0.027777777777777776\n",
      "Wahrscheinlichkeit für e) beträgt 0.16666666666666666\n",
      "Wahrscheinlichkeit für f) beträgt 0.16666666666666666\n",
      "Wahrscheinlichkeit für g) beträgt 0.16666666666666666\n"
     ]
    }
   ],
   "source": [
    "import numpy as np\n",
    "n=36 #hier 36 Möglichkeiten \n",
    "#Für die Bestimmung von k\n",
    "k=0\n",
    "c=0\n",
    "f=0\n",
    "for i in range (1,7):\n",
    "    if i+4>9:\n",
    "        f+=1\n",
    "    for j in range (1,7):\n",
    "        if i+j==9:\n",
    "            k+=1\n",
    "        if i+j>9:\n",
    "            c+=1\n",
    "#Für die Wahrscheinlichkeiten c) und d) nutze die Pfadregel:\n",
    "Pc=((1/6)**2)*2\n",
    "Pd=((1/6)**2)\n",
    "print(k,c) \n",
    "P=k/n\n",
    "print(\"Wahrscheinlichkeit für a) beträgt\", k/n , \"und die Häufigkeit zu diesem Ereignis beträgt\",k)\n",
    "print(\"Wahrscheinlichkeit für b) beträgt\", c/n, \"und die Häufigkeit zu diesem Ereignis beträgt\",c)\n",
    "print(\"Wahrscheinlichkeit für c) beträgt\", Pc)\n",
    "print(\"Wahrscheinlichkeit für d) beträgt\", Pd)\n",
    "\n",
    "\n",
    "Pe=((1/6)*(1/6))/(1/6)\n",
    "Pf=(f/36)/(1/6)\n",
    "Pg=Pe\n",
    "print(\"Wahrscheinlichkeit für e) beträgt\", Pe)\n",
    "print(\"Wahrscheinlichkeit für f) beträgt\", Pf)\n",
    "print(\"Wahrscheinlichkeit für g) beträgt\", Pg)"
   ]
  },
  {
   "cell_type": "markdown",
   "id": "8a293459-4781-445b-95aa-593d68e5bb41",
   "metadata": {},
   "source": [
    "## Aufgabe 2"
   ]
  },
  {
   "cell_type": "markdown",
   "id": "85b77afa-0a9f-4bf9-a8b0-d198f44765ff",
   "metadata": {},
   "source": [
    "Für die Aufgabe a) und b) wird zunächst die Normierungskonstante über die folgende Integration berechnet:\n",
    "\\begin{equation}\n",
    "    \\int_0^\\infty f(\\symup{v}) \\symup{d}\\symup{v}=1\n",
    "\\end{equation}\n",
    "\n",
    "Setze ein und löse mithilfer der Ergebnisse folgender Integrale\n",
    "\\begin{gather}\n",
    "    \\int \\symup{v}\\cdot\\exp(-\\frac{m\\cdot\\symup{v}^{2}}{2\\cdot\\symup{k}_{b}\\symup{T}})\\symup{d}\\symup{v}=-\\frac{\\symup{k}_{b}\\symup{T}}{\\symup{m}}\\exp(-\\frac{\\symup{m}\\symup{v}^{2}}{2\\cdot\\symup{k}_{b}\\symup{T}})+\\symup{C}_{\\text{constant}}\\\\\n",
    "    \\int_0^\\infty \\exp(-\\frac{m\\cdot\\symup{v}^{2}}{2\\cdot\\symup{k}_{b}\\symup{T}})\\symup{d}\\symup{v}=\\sqrt{\\frac{\\pi\\symup{k}_{b}\\symup{T}}{2m}}\n",
    "\\end{gather}\n",
    "schließlich über Partielle Integration \n",
    "\\begin{gather}\n",
    "    \\symup{N}\\cdot 4\\pi\\frac{\\symup{k}_{b}\\symup{T}}{2\\symup{m}} \\cdot([\\symup{v}\\cdot\\exp(-\\frac{m\\cdot\\symup{v}^{2}}{2\\cdot\\symup{k}_{b}\\symup{T}})]+ \\int_0^\\infty \\exp(-\\frac{m\\cdot\\symup{v}^{2}}{2\\cdot\\symup{k}_{b}\\symup{T}})\\symup{d}\\symup{v})= \\symup{N}\\cdot (\\frac{2\\pi\\symup{k}_{b}\\symup{T}}{m})^{\\frac{3}{2}}\\\\\n",
    "    \\implies \\symup{N}=(\\frac{m}{2\\pi\\symup{k}_{b}\\symup{T}})^{\\frac{3}{2}}\n",
    "\\end{gather}\n",
    "\n",
    "Um die Geschwindigkeit mit der höchsten Wahrscheinlichkeit zu bestimmen, nutze die notwendige Bedingung\n",
    "\\begin{equation}\n",
    "    \\frac{\\symup{d}\\symup{f}}{\\symup{d}\\symup{v}}=0\n",
    "\\end{equation}\n",
    "Erhalte für die Ableitung folgende Gleichung\n",
    "\\begin{gather}\n",
    "    4\\symup{N}\\cdot\\pi\\exp(-\\frac{m\\cdot\\symup{v}^{2}}{2\\cdot\\symup{k}_{b}\\symup{T}})\\cdot(-\\frac{m\\cdot\\symup{v}^{3}}{\\symup{k}_{b}\\symup{T}}+2\\symup{v})=0\\\\\n",
    "    \\implies \\symup{v}\\cdot(\\frac{m\\cdot\\symup{v}^{2}}{2\\cdot\\symup{k}_{b}\\symup{T}}+2)=0\\\\\n",
    "\\end{gather}\n",
    "Die Geschwindigkeit muss größer als 0 sein, somit gilt:\n",
    "\\begin{equation}\n",
    "    \\symup{v}_{m}=\\sqrt{\\frac{2\\symup{k}_{B}\\symup{T}}{\\symup{m}}}\n",
    "\\end{equation}\n",
    "Um den Erwartungswert zu bestimmen, wird die folgende Definition des Erwartungswertes verwendet:\n",
    "\\begin{equation}\n",
    "    \\langle v\\rangle=\\int_0^\\infty f(\\symup{v}) \\cdot \\symup{v} \\symup{d}\\symup{v} = \\int_0^\\infty N\\cdot\\exp(\\frac{m\\cdot\\symup{v}^{2}}{2\\cdot\\symup{k}_{b}\\symup{T}})  \\cdot \\symup{v} \\symup{d}\\symup{v}\n",
    "\\end{equation}\n",
    "Eingesetzt ergibt sich folgende Gleichung, die sich über partielle Integration und Substitution mit \n",
    "\\begin{gather}\n",
    "    \\symup{u}=\\frac{m\\cdot\\symup{v}^{2}}{2\\cdot\\symup{k}_{b}\\symup{T}}\\\\\n",
    "    \\symup{d}\\symup{u}=\\frac{m\\cdot\\symup{d}\\symup{v}}{\\symup{k}_{b}\\symup{T}}\\\\\n",
    "\\end{gather}\n",
    "wie folgt berechnen lässt\n",
    "\\begin{equation}\n",
    "    \\langle v\\rangle=4\\pi\\symup{N}\\cdot\\frac{2\\symup{k}_{b}^{2}\\cdot\\symup{T}^{2}}{\\symup{m}^{2}}\\cdot([-\\symup{u}\\cdot\\exp(-\\symup{u})]+\\int_0^\\infty \\exp(-u)\\symup{d}\\symup{u})= 8\\pi\\frac{\\symup{k}_{b}^{2}\\cdot\\symup{T}^{2}}{\\symup{m}^{2}}\\cdot\\symup{N}=\\sqrt{\\frac{8\\symup{k}_{B}\\symup{T}}{\\symup{m}\\pi}}\n",
    "\\end{equation}"
   ]
  },
  {
   "cell_type": "markdown",
   "id": "0dbc03e3-0725-45e6-b564-027f86208795",
   "metadata": {},
   "source": [
    "Bei der Teilaufgabe c) wird zunächst über Integration die CDF Funktion bestimmt. Zunächst wurde es mit der Methode quad aus sympy.integrate benutzt, jedoch war dies nicht zielführend, da explizit Integrationsgrenzen angegeben werden müssen. Es wurde dann analog zu a) und b) die CDF- Funktion händisch gelöst und für die Gaußsche Fehlerfunktion scipy.special verwendet. Um den Median zu bestimmen, muss folgendes berechnet werden\n",
    "\\begin{equation}\n",
    "    \\symup{F}(\\symup{v}_{0.5})-0.5=0\n",
    "\\end{equation}\n",
    "Dies ist mit scipy.optimize.root möglich, jedoch sind keine konkreten Werte für die Konstanten unter anderem für die Masse und Temperatur gegeben, sodass sich das Programm nicht ausführen lässt. (Deswegen sind hier beliebige Werte für m und T eingesetzt worden)."
   ]
  },
  {
   "cell_type": "code",
   "execution_count": 2,
   "id": "9a0f92db-d201-47d6-9dea-ffb637fe2618",
   "metadata": {},
   "outputs": [
    {
     "name": "stdout",
     "output_type": "stream",
     "text": [
      "[2.03647787]\n"
     ]
    }
   ],
   "source": [
    "#Für die Teilaufgabe c) und d) nutze CDF über INtegration von \n",
    "import numpy as np\n",
    "import scipy.optimize\n",
    "from scipy import optimize\n",
    "from scipy import integrate\n",
    "from scipy.integrate import quad\n",
    "from scipy import special\n",
    "m=1 #Hier gewählt, aber nicht gegeben\n",
    "k=1\n",
    "T=1#Hier gewählt, aber nicht gegeben\n",
    "N=(m/(2*np.pi*k*T))**(3/2)\n",
    "def PDF(v):\n",
    "    return N*np.exp(-(m*v**2)/(2*k*T))*4*np.pi*v**2\n",
    "def CDF0(v,a):\n",
    "    return quad(PDF, 0, a, args=(v))\n",
    "#hier händisch gelöst, obige CDF- FUnktion nicht möglich denn Übergabe von Integrationsgrenze\n",
    "def CDF1(v):\n",
    "    return 4*np.pi*N*(-v*((k*T)/(m))*np.exp(-(m*v**2)/(2*k*T))+(np.sqrt((k*T*np.pi)/(4*m)))*special.erf(v))-0.5\n",
    "sol = optimize.root(CDF1,[1]) #wie kann man Guesses machen wenn keine Werte gegeben sind\n",
    "print(sol.x)\n",
    "    \n"
   ]
  },
  {
   "cell_type": "markdown",
   "id": "10cb49ab-dd38-4dcd-ad10-7c815c1f7de9",
   "metadata": {},
   "source": [
    "d) Zur Berechnung der halben Höhe der Distribution: <br>\n",
    "$$f(v_m) = N \\cdot \\exp(-1) \\cdot 4 \\pi \\frac{2K_BT}{m} $$\n",
    "$$\\Leftrightarrow f(v_m) = 4 \\sqrt{\\frac{m}{2K_bT \\pi}} \\cdot \\exp(-1)$$\n",
    "$$ f(v_m)/2 = 2 \\sqrt{\\frac{m}{2K_bT \\pi}} \\cdot \\exp(-1)$$ <br>\n",
    "Die gesamte Breite der Funktion ergibt sich dann aus den $v_2 - v_1$ Werten, für die Funktion $f(v_m)/2 = f(v_2) = f(v_1)$: <br>\n",
    "Für die beiden $v_1,v_2$ gilt: \n",
    "$$ 0 = \\sqrt{\\frac{m³}{8K³_bT³ \\pi³}} \\cdot \\exp{(-\\frac{m v²}{2 K_b T})} \\cdot 4 \\pi v² - 2 \\sqrt{\\frac{m}{2K_bT \\pi}} \\cdot e^{-1}$$\n",
    "$$\\Leftrightarrow 0 = \\frac{m}{2 K_b T} \\exp{(-\\frac{m v²}{2 K_b T})} \\cdot v² - 2 e^{-1}$$\n",
    "Da ich keine Ahnung habe, wie ich das auswerten soll für Unbekannte: \n",
    "Für $\\frac{m}{2 K_b T} = 1$\n",
    "$$\\Rightarrow 0 =  \\exp{(- v²)} \\cdot v² - 2 e^{-1}$$\n",
    "$$\\Leftrightarrow v_{1,2} = \\pm i \\sqrt{W_n(-\\frac{2}{e}))} \\, \\, n \\in \\mathbb{N}$$\n"
   ]
  },
  {
   "cell_type": "markdown",
   "id": "25685a97-744a-4c21-8706-d057e741dd9c",
   "metadata": {},
   "source": [
    "e) Für die Standardabweichung gilt: <br>\n",
    "$$\\sigma = \\sqrt{<v²> - <v>²}$$ <br>\n",
    "Berechnung für $<v²>$:\n",
    "$$<v²> = \\int^\\infty_0{v² \\cdot f(v) \\symup{dv}}$$\n",
    "$$<v²> = 4 \\pi N \\int^\\infty_0{v⁴ \\cdot \\exp{(-kv²)}\\, \\symup{dv}} \\,\\, \\text{mit} \\, \\, k = \\frac{m}{2k_bT}$$\n",
    "$$= - 4 \\pi N \\int^\\infty_0{v² \\frac{\\text{d}}{\\text{dk}} \\exp{(-kv²)}\\, \\symup{dv}}, \\,\\, \\text{da gilt:} \\, \\,v² \\cdot \\exp{(-kv²)} = - \\frac{\\text{d}}{\\text{dk}} \\exp{(-kv²)}$$\n",
    "$$= - 4 \\pi N \\frac{\\text{d}}{\\text{dk}} \\int^\\infty_0{v²  \\exp{(-kv²)}\\, \\symup{dv}} \\,\\, \\text{im nächsten Schritt dann mit partieller Integration}$$\n",
    "$$= - 4 \\pi N \\frac{\\text{d}}{\\text{dk}} ([-v \\cdot \\frac{1}{2k}\\exp{(-kv²)}]^{\\infty}_0 + \\int^\\infty_0{\\frac{1}{2k}  \\exp{(-kv²)}\\, \\symup{dv}})$$\n",
    "$$= - N \\sqrt{\\pi³}\\frac{\\text{d}}{\\text{dk}} \\frac{1}{k^{3/2}}$$\n",
    "$$= \\frac{3}{2} N \\sqrt{\\pi³} \\cdot k^{-5/2} = \\frac{3}{2} \\sqrt{\\frac{m³}{8K_b³ T³ \\pi³}} \\cdot \\sqrt{\\pi³} \\cdot (\\frac{m}{2K_bT}))^{-5/2} = \\frac{3K_bT}{m}$$<br>\n",
    "In $\\sigma$ eingesetzt:<br>\n",
    "$$\\sigma = \\sqrt{\\frac{3K_bT}{m} - \\frac{8K_bT}{m\\pi} } = \\sqrt{\\frac{(3\\pi - 8)K_bT}{m\\pi}}$$\n",
    "\n"
   ]
  }
 ],
 "metadata": {
  "kernelspec": {
   "display_name": "Python 3 (ipykernel)",
   "language": "python",
   "name": "python3"
  },
  "language_info": {
   "codemirror_mode": {
    "name": "ipython",
    "version": 3
   },
   "file_extension": ".py",
   "mimetype": "text/x-python",
   "name": "python",
   "nbconvert_exporter": "python",
   "pygments_lexer": "ipython3",
   "version": "3.12.3"
  }
 },
 "nbformat": 4,
 "nbformat_minor": 5
}
