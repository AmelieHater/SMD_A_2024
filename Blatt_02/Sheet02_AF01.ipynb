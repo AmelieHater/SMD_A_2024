{
 "cells": [
  {
   "cell_type": "markdown",
   "id": "a98e0271-2c98-47c4-84d4-53be4ace1f9b",
   "metadata": {},
   "source": [
    "# Übungsblatt 02"
   ]
  },
  {
   "cell_type": "markdown",
   "id": "f8cf37e9-463e-4508-9366-588996bdcb00",
   "metadata": {},
   "source": [
    "## Aufgabe 1"
   ]
  },
  {
   "cell_type": "markdown",
   "id": "a543c031-11e9-446c-8356-02617dc1ff1a",
   "metadata": {},
   "source": [
    "a) Für die Wahrscheinlichkeit, dass die Summe der Punkte gleich oder größer 9 beträgt, werden durch die Häufigkeiten\n",
    "\\begin{gather}\n",
    "    \\symup{k}=\\text{Häufigkeit der Paare mit Summe gleich 9}\\\\\n",
    "    \\symup{c}=\\text{Häufigkeit der Paare mit Summe größer als 9}\\\\\n",
    "    \\symup{n}=\\text{Gesamtanzahl der Paare}\\\\\n",
    "\\end{gather}\n",
    "und der allgemeinen Formel zur Berechnung von Wahrscheinlichkeiten\n",
    "\\begin{equation}\n",
    "    \\symup{P}(\\text{Ereignis})=\\frac{\\symup{A}_{\\text{Häufigkeit eines Ereignisses}}}{\\symup{n}}\n",
    "\\end{equation}\n",
    "\n",
    "    \n",
    "berechnet. Die einzelnen Häufigkeiten k und c sowie die entsprechenden Wahrscheinlichkeiten wird das unten stehende Programm verwendet. Es ergeben sich folgende Wahrscheinlichkeiten\n",
    "\\begin{gather}\n",
    "    \\symup{P}(\\text{a)})\\approx 0.11\\\\\n",
    "    \\symup{P}(\\text{b)})\\approx0.167\\\\\n",
    "\\end{gather}\n",
    "Für die Wahrscheinlichkeiten in Teilaufgabe c und d werden die Regeln zur Pfadmultiplikation und Pfadaddition verwendet. Die Wahrscheinlichkeiten ergeben sich zu \n",
    "\\begin{gather}\n",
    "    \\symup{P}(\\text{c)})=\\symup{P}(\\text{\"Zum Würfeln einer 4\"})\\symup{P}(\\text{\"Zum Würfeln einer 5\"}) \\cdot 2= (\\frac{1}{6})^{2} \\cdot 2\\approx0.056\\\\ \n",
    "    \\symup{P}(\\text{d)})=\\symup{P}(\\text{\"Zum Würfeln einer 4\"})\\symup{P}(\\text{\"Zum Würfeln einer 5\"}) \\cdot 2= (\\frac{1}{6})^{2} \\cdot 2\\approx0.0278\\\\\n",
    "\\end{gather}\n",
    "\n",
    "Für die Berechnung der Wahrscheinlichkeiten aus e) bis g) wird die folgende allgemeine Formel aus der Vorlesung verwendet\n",
    "\\begin{equation}\n",
    "    \\symup{P}(\\symup{B} \\symup{A})=\\frac{\\symup{P}(\\symup{B} \\symup{A})}{\\symup{P}(\\symup{A})}\n",
    "\\end{equation}\n",
    "Die Wahrscheinlichkeiten werden ebenso im unten stehenden Programm ausgerechnet, sodass sich folgende Ergebnisse ergeben\n",
    "\\begin{gather}\n",
    "    \\symup{P}(\\text{e)})=\\frac{\\symup{P}(\\text{\"Zum ersten Würfeln einer 4 und die Summe gleich 9\"})}{\\symup{P}(\\text{\"Zum ersten Würfeln einer4\"})}\\approx 0.167\\\\\n",
    "    \\symup{P}(\\text{f)})=\\frac{\\symup{P}(\\text{\"Zum ersten Würfeln einer 4 und die Summe größer 9\"})}{\\symup{P}(\\text{\"Zum ersten Würfeln einer4\"})}\\approx0.167\\\\\n",
    "    \\symup{P}(\\text{g)})=\\symup{P}(\\text{e)})\\approx 0.167\\\\\n",
    "\\end{gather}"
   ]
  },
  {
   "cell_type": "code",
   "execution_count": 23,
   "id": "b76a68f4-f9ea-4d72-859d-59bc93ee9158",
   "metadata": {},
   "outputs": [
    {
     "name": "stdout",
     "output_type": "stream",
     "text": [
      "4 6\n",
      "Wahrscheinlichkeit für a) beträgt 0.1111111111111111 und die Häufigkeit zu diesem Ereignis beträgt 4\n",
      "Wahrscheinlichkeit für b) beträgt 0.16666666666666666 und die Häufigkeit zu diesem Ereignis beträgt 6\n",
      "Wahrscheinlichkeit für c) beträgt 0.05555555555555555\n",
      "Wahrscheinlichkeit für d) beträgt 0.027777777777777776\n",
      "Wahrscheinlichkeit für e) beträgt 0.16666666666666666\n",
      "Wahrscheinlichkeit für f) beträgt 0.16666666666666666\n",
      "Wahrscheinlichkeit für g) beträgt 0.16666666666666666\n"
     ]
    }
   ],
   "source": [
    "import numpy as np\n",
    "n=36 #hier 36 Möglichkeiten \n",
    "#Für die Bestimmung von k\n",
    "k=0\n",
    "c=0\n",
    "f=0\n",
    "for i in range (1,7):\n",
    "    if i+4>9:\n",
    "        f+=1\n",
    "    for j in range (1,7):\n",
    "        if i+j==9:\n",
    "            k+=1\n",
    "        if i+j>9:\n",
    "            c+=1\n",
    "#Für die Wahrscheinlichkeiten c) und d) nutze die Pfadregel:\n",
    "Pc=((1/6)**2)*2\n",
    "Pd=((1/6)**2)\n",
    "print(k,c) \n",
    "P=k/n\n",
    "print(\"Wahrscheinlichkeit für a) beträgt\", k/n , \"und die Häufigkeit zu diesem Ereignis beträgt\",k)\n",
    "print(\"Wahrscheinlichkeit für b) beträgt\", c/n, \"und die Häufigkeit zu diesem Ereignis beträgt\",c)\n",
    "print(\"Wahrscheinlichkeit für c) beträgt\", Pc)\n",
    "print(\"Wahrscheinlichkeit für d) beträgt\", Pd)\n",
    "\n",
    "\n",
    "Pe=((1/6)*(1/6))/(1/6)\n",
    "Pf=(f/36)/(1/6)\n",
    "Pg=Pe\n",
    "print(\"Wahrscheinlichkeit für e) beträgt\", Pe)\n",
    "print(\"Wahrscheinlichkeit für f) beträgt\", Pf)\n",
    "print(\"Wahrscheinlichkeit für g) beträgt\", Pg)"
   ]
  },
  {
   "cell_type": "markdown",
   "id": "8a293459-4781-445b-95aa-593d68e5bb41",
   "metadata": {},
   "source": [
    "## Aufgabe 2"
   ]
  },
  {
   "cell_type": "markdown",
   "id": "0dbc03e3-0725-45e6-b564-027f86208795",
   "metadata": {},
   "source": [
    "Für die Teilaufgabe c) berechne analytisch die Stammfunktion von f(v), um von PDF zur CDF zu kommen, sodass man über rootfinding zum Ergebnis kommt"
   ]
  },
  {
   "cell_type": "code",
   "execution_count": 2,
   "id": "9a0f92db-d201-47d6-9dea-ffb637fe2618",
   "metadata": {},
   "outputs": [
    {
     "ename": "TypeError",
     "evalue": "unsupported operand type(s) for *: 'float' and 'NoneType'",
     "output_type": "error",
     "traceback": [
      "\u001b[0;31m---------------------------------------------------------------------------\u001b[0m",
      "\u001b[0;31mTypeError\u001b[0m                                 Traceback (most recent call last)",
      "Cell \u001b[0;32mIn[2], line 21\u001b[0m\n\u001b[1;32m     19\u001b[0m     \u001b[38;5;28;01mreturn\u001b[39;00m \u001b[38;5;241m4\u001b[39m\u001b[38;5;241m*\u001b[39mnp\u001b[38;5;241m.\u001b[39mpi\u001b[38;5;241m*\u001b[39mN\u001b[38;5;241m*\u001b[39m(\u001b[38;5;241m-\u001b[39mv\u001b[38;5;241m*\u001b[39m((k\u001b[38;5;241m*\u001b[39mT)\u001b[38;5;241m/\u001b[39m(m))\u001b[38;5;241m*\u001b[39mnp\u001b[38;5;241m.\u001b[39mexp(\u001b[38;5;241m-\u001b[39m(m\u001b[38;5;241m*\u001b[39mv\u001b[38;5;241m*\u001b[39m\u001b[38;5;241m*\u001b[39m\u001b[38;5;241m2\u001b[39m)\u001b[38;5;241m/\u001b[39m(\u001b[38;5;241m2\u001b[39m\u001b[38;5;241m*\u001b[39mk\u001b[38;5;241m*\u001b[39mT))\u001b[38;5;241m+\u001b[39m(np\u001b[38;5;241m.\u001b[39msqrt((k\u001b[38;5;241m*\u001b[39mT\u001b[38;5;241m*\u001b[39mnp\u001b[38;5;241m.\u001b[39mpi)\u001b[38;5;241m/\u001b[39m(\u001b[38;5;241m4\u001b[39m\u001b[38;5;241m*\u001b[39mm)))\u001b[38;5;241m*\u001b[39mspecial\u001b[38;5;241m.\u001b[39mspecial\u001b[38;5;241m.\u001b[39merf(v))\u001b[38;5;241m-\u001b[39m\u001b[38;5;241m0.5\u001b[39m\n\u001b[1;32m     20\u001b[0m p\u001b[38;5;241m=\u001b[39m\u001b[38;5;241m0.5\u001b[39m \u001b[38;5;66;03m#Es soll im folgenden der schnittpunkt bestimmt werden von 0.5 und CDF\u001b[39;00m\n\u001b[0;32m---> 21\u001b[0m sol \u001b[38;5;241m=\u001b[39m \u001b[43moptimize\u001b[49m\u001b[38;5;241;43m.\u001b[39;49m\u001b[43mroot\u001b[49m\u001b[43m(\u001b[49m\u001b[43mCDF1\u001b[49m\u001b[43m,\u001b[49m\u001b[43m[\u001b[49m\u001b[38;5;241;43m1\u001b[39;49m\u001b[43m]\u001b[49m\u001b[43m)\u001b[49m\n\u001b[1;32m     22\u001b[0m \u001b[38;5;28mprint\u001b[39m(sol\u001b[38;5;241m.\u001b[39mx)\n",
      "File \u001b[0;32m~/.local/mambaforge/envs/smd/lib/python3.12/site-packages/scipy/optimize/_root.py:236\u001b[0m, in \u001b[0;36mroot\u001b[0;34m(fun, x0, args, method, jac, tol, callback, options)\u001b[0m\n\u001b[1;32m    233\u001b[0m         options\u001b[38;5;241m.\u001b[39msetdefault(\u001b[38;5;124m'\u001b[39m\u001b[38;5;124mfatol\u001b[39m\u001b[38;5;124m'\u001b[39m, np\u001b[38;5;241m.\u001b[39minf)\n\u001b[1;32m    235\u001b[0m \u001b[38;5;28;01mif\u001b[39;00m meth \u001b[38;5;241m==\u001b[39m \u001b[38;5;124m'\u001b[39m\u001b[38;5;124mhybr\u001b[39m\u001b[38;5;124m'\u001b[39m:\n\u001b[0;32m--> 236\u001b[0m     sol \u001b[38;5;241m=\u001b[39m \u001b[43m_root_hybr\u001b[49m\u001b[43m(\u001b[49m\u001b[43mfun\u001b[49m\u001b[43m,\u001b[49m\u001b[43m \u001b[49m\u001b[43mx0\u001b[49m\u001b[43m,\u001b[49m\u001b[43m \u001b[49m\u001b[43margs\u001b[49m\u001b[38;5;241;43m=\u001b[39;49m\u001b[43margs\u001b[49m\u001b[43m,\u001b[49m\u001b[43m \u001b[49m\u001b[43mjac\u001b[49m\u001b[38;5;241;43m=\u001b[39;49m\u001b[43mjac\u001b[49m\u001b[43m,\u001b[49m\u001b[43m \u001b[49m\u001b[38;5;241;43m*\u001b[39;49m\u001b[38;5;241;43m*\u001b[39;49m\u001b[43moptions\u001b[49m\u001b[43m)\u001b[49m\n\u001b[1;32m    237\u001b[0m \u001b[38;5;28;01melif\u001b[39;00m meth \u001b[38;5;241m==\u001b[39m \u001b[38;5;124m'\u001b[39m\u001b[38;5;124mlm\u001b[39m\u001b[38;5;124m'\u001b[39m:\n\u001b[1;32m    238\u001b[0m     sol \u001b[38;5;241m=\u001b[39m _root_leastsq(fun, x0, args\u001b[38;5;241m=\u001b[39margs, jac\u001b[38;5;241m=\u001b[39mjac, \u001b[38;5;241m*\u001b[39m\u001b[38;5;241m*\u001b[39moptions)\n",
      "File \u001b[0;32m~/.local/mambaforge/envs/smd/lib/python3.12/site-packages/scipy/optimize/_minpack_py.py:232\u001b[0m, in \u001b[0;36m_root_hybr\u001b[0;34m(func, x0, args, jac, col_deriv, xtol, maxfev, band, eps, factor, diag, **unknown_options)\u001b[0m\n\u001b[1;32m    230\u001b[0m \u001b[38;5;28;01mif\u001b[39;00m \u001b[38;5;129;01mnot\u001b[39;00m \u001b[38;5;28misinstance\u001b[39m(args, \u001b[38;5;28mtuple\u001b[39m):\n\u001b[1;32m    231\u001b[0m     args \u001b[38;5;241m=\u001b[39m (args,)\n\u001b[0;32m--> 232\u001b[0m shape, dtype \u001b[38;5;241m=\u001b[39m \u001b[43m_check_func\u001b[49m\u001b[43m(\u001b[49m\u001b[38;5;124;43m'\u001b[39;49m\u001b[38;5;124;43mfsolve\u001b[39;49m\u001b[38;5;124;43m'\u001b[39;49m\u001b[43m,\u001b[49m\u001b[43m \u001b[49m\u001b[38;5;124;43m'\u001b[39;49m\u001b[38;5;124;43mfunc\u001b[39;49m\u001b[38;5;124;43m'\u001b[39;49m\u001b[43m,\u001b[49m\u001b[43m \u001b[49m\u001b[43mfunc\u001b[49m\u001b[43m,\u001b[49m\u001b[43m \u001b[49m\u001b[43mx0\u001b[49m\u001b[43m,\u001b[49m\u001b[43m \u001b[49m\u001b[43margs\u001b[49m\u001b[43m,\u001b[49m\u001b[43m \u001b[49m\u001b[43mn\u001b[49m\u001b[43m,\u001b[49m\u001b[43m \u001b[49m\u001b[43m(\u001b[49m\u001b[43mn\u001b[49m\u001b[43m,\u001b[49m\u001b[43m)\u001b[49m\u001b[43m)\u001b[49m\n\u001b[1;32m    233\u001b[0m \u001b[38;5;28;01mif\u001b[39;00m epsfcn \u001b[38;5;129;01mis\u001b[39;00m \u001b[38;5;28;01mNone\u001b[39;00m:\n\u001b[1;32m    234\u001b[0m     epsfcn \u001b[38;5;241m=\u001b[39m finfo(dtype)\u001b[38;5;241m.\u001b[39meps\n",
      "File \u001b[0;32m~/.local/mambaforge/envs/smd/lib/python3.12/site-packages/scipy/optimize/_minpack_py.py:29\u001b[0m, in \u001b[0;36m_check_func\u001b[0;34m(checker, argname, thefunc, x0, args, numinputs, output_shape)\u001b[0m\n\u001b[1;32m     27\u001b[0m \u001b[38;5;28;01mdef\u001b[39;00m \u001b[38;5;21m_check_func\u001b[39m(checker, argname, thefunc, x0, args, numinputs,\n\u001b[1;32m     28\u001b[0m                 output_shape\u001b[38;5;241m=\u001b[39m\u001b[38;5;28;01mNone\u001b[39;00m):\n\u001b[0;32m---> 29\u001b[0m     res \u001b[38;5;241m=\u001b[39m atleast_1d(\u001b[43mthefunc\u001b[49m\u001b[43m(\u001b[49m\u001b[38;5;241;43m*\u001b[39;49m\u001b[43m(\u001b[49m\u001b[43m(\u001b[49m\u001b[43mx0\u001b[49m\u001b[43m[\u001b[49m\u001b[43m:\u001b[49m\u001b[43mnuminputs\u001b[49m\u001b[43m]\u001b[49m\u001b[43m,\u001b[49m\u001b[43m)\u001b[49m\u001b[43m \u001b[49m\u001b[38;5;241;43m+\u001b[39;49m\u001b[43m \u001b[49m\u001b[43margs\u001b[49m\u001b[43m)\u001b[49m\u001b[43m)\u001b[49m)\n\u001b[1;32m     30\u001b[0m     \u001b[38;5;28;01mif\u001b[39;00m (output_shape \u001b[38;5;129;01mis\u001b[39;00m \u001b[38;5;129;01mnot\u001b[39;00m \u001b[38;5;28;01mNone\u001b[39;00m) \u001b[38;5;129;01mand\u001b[39;00m (shape(res) \u001b[38;5;241m!=\u001b[39m output_shape):\n\u001b[1;32m     31\u001b[0m         \u001b[38;5;28;01mif\u001b[39;00m (output_shape[\u001b[38;5;241m0\u001b[39m] \u001b[38;5;241m!=\u001b[39m \u001b[38;5;241m1\u001b[39m):\n",
      "Cell \u001b[0;32mIn[2], line 19\u001b[0m, in \u001b[0;36mCDF1\u001b[0;34m(v)\u001b[0m\n\u001b[1;32m     18\u001b[0m \u001b[38;5;28;01mdef\u001b[39;00m \u001b[38;5;21mCDF1\u001b[39m(v):\n\u001b[0;32m---> 19\u001b[0m     \u001b[38;5;28;01mreturn\u001b[39;00m \u001b[38;5;241;43m4\u001b[39;49m\u001b[38;5;241;43m*\u001b[39;49m\u001b[43mnp\u001b[49m\u001b[38;5;241;43m.\u001b[39;49m\u001b[43mpi\u001b[49m\u001b[38;5;241;43m*\u001b[39;49m\u001b[43mN\u001b[49m\u001b[38;5;241m*\u001b[39m(\u001b[38;5;241m-\u001b[39mv\u001b[38;5;241m*\u001b[39m((k\u001b[38;5;241m*\u001b[39mT)\u001b[38;5;241m/\u001b[39m(m))\u001b[38;5;241m*\u001b[39mnp\u001b[38;5;241m.\u001b[39mexp(\u001b[38;5;241m-\u001b[39m(m\u001b[38;5;241m*\u001b[39mv\u001b[38;5;241m*\u001b[39m\u001b[38;5;241m*\u001b[39m\u001b[38;5;241m2\u001b[39m)\u001b[38;5;241m/\u001b[39m(\u001b[38;5;241m2\u001b[39m\u001b[38;5;241m*\u001b[39mk\u001b[38;5;241m*\u001b[39mT))\u001b[38;5;241m+\u001b[39m(np\u001b[38;5;241m.\u001b[39msqrt((k\u001b[38;5;241m*\u001b[39mT\u001b[38;5;241m*\u001b[39mnp\u001b[38;5;241m.\u001b[39mpi)\u001b[38;5;241m/\u001b[39m(\u001b[38;5;241m4\u001b[39m\u001b[38;5;241m*\u001b[39mm)))\u001b[38;5;241m*\u001b[39mspecial\u001b[38;5;241m.\u001b[39mspecial\u001b[38;5;241m.\u001b[39merf(v))\u001b[38;5;241m-\u001b[39m\u001b[38;5;241m0.5\u001b[39m\n",
      "\u001b[0;31mTypeError\u001b[0m: unsupported operand type(s) for *: 'float' and 'NoneType'"
     ]
    }
   ],
   "source": [
    "#Für die Teilaufgabe c) und d) nutze CDF über INtegration von \n",
    "import numpy as np\n",
    "import scipy.optimize\n",
    "from scipy import optimize\n",
    "from scipy import integrate\n",
    "from scipy.integrate import quad\n",
    "from scipy import special\n",
    "N=None\n",
    "m=None\n",
    "k=None\n",
    "T=None\n",
    "def PDF(v):\n",
    "    return N*np.exp(-(m*v**2)/(2*k*T))*4*np.pi*v**2\n",
    "#Mit CDF0 ein Versuch ohne händich zu integrieren die Stammfunktion zu bekommen, aber ohne limits ist es nicht möglich\n",
    "def CDF0(v,a):\n",
    "    return quad(PDF, 0, a, args=(v))\n",
    "#hier händisch gelöst\n",
    "def CDF1(v):\n",
    "    return 4*np.pi*N*(-v*((k*T)/(m))*np.exp(-(m*v**2)/(2*k*T))+(np.sqrt((k*T*np.pi)/(4*m)))*special.special.erf(v))-0.5\n",
    "p=0.5 #Es soll im folgenden der schnittpunkt bestimmt werden von 0.5 und CDF\n",
    "sol = optimize.root(CDF1,[1])\n",
    "print(sol.x)\n",
    "    \n"
   ]
  },
  {
   "cell_type": "code",
   "execution_count": null,
   "id": "05475bb6-1077-4488-af50-3800a8c2c426",
   "metadata": {},
   "outputs": [],
   "source": []
  }
 ],
 "metadata": {
  "kernelspec": {
   "display_name": "Python 3 (ipykernel)",
   "language": "python",
   "name": "python3"
  },
  "language_info": {
   "codemirror_mode": {
    "name": "ipython",
    "version": 3
   },
   "file_extension": ".py",
   "mimetype": "text/x-python",
   "name": "python",
   "nbconvert_exporter": "python",
   "pygments_lexer": "ipython3",
   "version": "3.12.3"
  }
 },
 "nbformat": 4,
 "nbformat_minor": 5
}
