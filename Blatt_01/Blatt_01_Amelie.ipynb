{
 "cells": [
  {
   "cell_type": "markdown",
   "id": "ab66faa5-247c-4e68-a96e-a9bba8650a7d",
   "metadata": {},
   "source": [
    "Nr 1. \n",
    "(a) $f(x) = (x³ + \\frac{1}{3}) - (x³ - \\frac{1}{3})$ \n",
    "Wann ist die Abweichung mehr als 1 \\%?\n"
   ]
  },
  {
   "cell_type": "code",
   "execution_count": 2,
   "id": "c03dffb7-e5d8-4bea-acf0-7a2466a23262",
   "metadata": {},
   "outputs": [
    {
     "name": "stdout",
     "output_type": "stream",
     "text": [
      "65536 0.65625\n"
     ]
    }
   ],
   "source": [
    "import numpy as np\n",
    "\n",
    "#f = (x**3 + (1/3))-(x**3 - (1/3))\n",
    "t = (2**3 + (1/3))-(2**3 - (1/3))\n",
    "x=2\n",
    "\n",
    "while abs((2/3) - t) < 0.01 :\n",
    "    x = x * 2\n",
    "    t = (x**3 + (1/3))-(x**3 - (1/3))\n",
    "    \n",
    "    \n",
    "print(x,t)"
   ]
  },
  {
   "cell_type": "markdown",
   "id": "85d02f9f-a6d3-4d6b-97b6-ed6120fdcfa1",
   "metadata": {},
   "source": [
    "Beim Ausführen des Codes kommt ein $x = 65.536$ und ein $f = 0.65625$ heraus. D.h. bei ca. $65,5 \\cdot 10³$ wird die ABweichung größer als 1 \\%."
   ]
  },
  {
   "cell_type": "code",
   "execution_count": 4,
   "id": "2d447737-cde3-4398-8f7f-0fedfff22411",
   "metadata": {},
   "outputs": [
    {
     "ename": "OverflowError",
     "evalue": "int too large to convert to float",
     "output_type": "error",
     "traceback": [
      "\u001b[0;31m---------------------------------------------------------------------------\u001b[0m",
      "\u001b[0;31mOverflowError\u001b[0m                             Traceback (most recent call last)",
      "Cell \u001b[0;32mIn[4], line 3\u001b[0m\n\u001b[1;32m      1\u001b[0m \u001b[38;5;28;01mwhile\u001b[39;00m np\u001b[38;5;241m.\u001b[39misclose(t,\u001b[38;5;241m0\u001b[39m) \u001b[38;5;129;01mis\u001b[39;00m \u001b[38;5;129;01mnot\u001b[39;00m \u001b[38;5;28;01mTrue\u001b[39;00m:\n\u001b[1;32m      2\u001b[0m     x \u001b[38;5;241m=\u001b[39m x \u001b[38;5;241m*\u001b[39m \u001b[38;5;241m2\u001b[39m\n\u001b[0;32m----> 3\u001b[0m     t \u001b[38;5;241m=\u001b[39m (\u001b[43mx\u001b[49m\u001b[38;5;241;43m*\u001b[39;49m\u001b[38;5;241;43m*\u001b[39;49m\u001b[38;5;241;43m3\u001b[39;49m\u001b[43m \u001b[49m\u001b[38;5;241;43m+\u001b[39;49m\u001b[43m \u001b[49m\u001b[43m(\u001b[49m\u001b[38;5;241;43m1\u001b[39;49m\u001b[38;5;241;43m/\u001b[39;49m\u001b[38;5;241;43m3\u001b[39;49m\u001b[43m)\u001b[49m)\u001b[38;5;241m-\u001b[39m(x\u001b[38;5;241m*\u001b[39m\u001b[38;5;241m*\u001b[39m\u001b[38;5;241m3\u001b[39m \u001b[38;5;241m-\u001b[39m (\u001b[38;5;241m1\u001b[39m\u001b[38;5;241m/\u001b[39m\u001b[38;5;241m3\u001b[39m))\n\u001b[1;32m      5\u001b[0m \u001b[38;5;28mprint\u001b[39m(x,t)\n",
      "\u001b[0;31mOverflowError\u001b[0m: int too large to convert to float"
     ]
    }
   ],
   "source": [
    "while np.isclose(t,0) is not True:\n",
    "    x = x * 10\n",
    "    t = (x**3 + (1/3))-(x**3 - (1/3))\n",
    "\n",
    "print(x,t)"
   ]
  },
  {
   "cell_type": "code",
   "execution_count": null,
   "id": "b753f9cb-8df4-4b80-9fcc-3e4f36a63bb9",
   "metadata": {},
   "outputs": [],
   "source": []
  }
 ],
 "metadata": {
  "kernelspec": {
   "display_name": "Python 3 (ipykernel)",
   "language": "python",
   "name": "python3"
  },
  "language_info": {
   "codemirror_mode": {
    "name": "ipython",
    "version": 3
   },
   "file_extension": ".py",
   "mimetype": "text/x-python",
   "name": "python",
   "nbconvert_exporter": "python",
   "pygments_lexer": "ipython3",
   "version": "3.12.3"
  }
 },
 "nbformat": 4,
 "nbformat_minor": 5
}
